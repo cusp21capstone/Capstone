{
 "cells": [
  {
   "cell_type": "code",
   "execution_count": 26,
   "metadata": {},
   "outputs": [],
   "source": [
    "import numpy as np\n",
    "import pandas as pd\n",
    "import geopandas as gpd\n",
    "import matplotlib.pyplot as plt\n",
    "import os\n",
    "import warnings\n",
    "warnings.filterwarnings('ignore')"
   ]
  },
  {
   "cell_type": "code",
   "execution_count": 27,
   "metadata": {},
   "outputs": [],
   "source": [
    "stores = gpd.read_file('DETER_POI.shp')\n",
    "paths = gpd.read_file('COVID-19.shp')\n",
    "store_path_50 = gpd.read_file('Point_50_SpatialJoin.shp')\n",
    "store_path_20 = gpd.read_file('Point_20_SpatialJoin.shp')\n",
    "store_path_50['Name'] = store_path_50['Name'].fillna('0')\n",
    "store_path_20['Name'] = store_path_20['Name'].fillna('0')\n",
    "store_path_50 = store_path_50[store_path_50['Name'] != '0']\n",
    "store_path_20 = store_path_20[store_path_20['Name'] != '0']"
   ]
  },
  {
   "cell_type": "code",
   "execution_count": 28,
   "metadata": {},
   "outputs": [],
   "source": [
    "data_50 = pd.merge(store_path_50[['placekey','Name']],paths,on='Name',how='left')\n",
    "data_20 = pd.merge(store_path_20[['placekey','Name']],paths,on='Name',how='left')"
   ]
  },
  {
   "cell_type": "code",
   "execution_count": 30,
   "metadata": {},
   "outputs": [],
   "source": [
    "#for i in data_50.iloc[:,3].columns"
   ]
  },
  {
   "cell_type": "code",
   "execution_count": 31,
   "metadata": {},
   "outputs": [
    {
     "data": {
      "text/plain": [
       "<AxesSubplot:>"
      ]
     },
     "execution_count": 31,
     "metadata": {},
     "output_type": "execute_result"
    },
    {
     "data": {
      "image/png": "[encoded data removed]",
      "text/plain": [
       "<Figure size 432x288 with 1 Axes>"
      ]
     },
     "metadata": {
      "needs_background": "light"
     },
     "output_type": "display_data"
    }
   ],
   "source": [
    "#Number_of_分 Walk_alone_Y/Walk_alone_N\n",
    "data_50['Number_of_'].hist()"
   ]
  },
  {
   "cell_type": "code",
   "execution_count": 32,
   "metadata": {},
   "outputs": [
    {
     "data": {
      "text/plain": [
       "<AxesSubplot:>"
      ]
     },
     "execution_count": 32,
     "metadata": {},
     "output_type": "execute_result"
    },
    {
     "data": {
      "image/png": "[encoded data removed]",
      "text/plain": [
       "<Figure size 432x288 with 1 Axes>"
      ]
     },
     "metadata": {
      "needs_background": "light"
     },
     "output_type": "display_data"
    }
   ],
   "source": [
    "#PPE_type       No_mask/Only_mask/Morethan_mask\n",
    "data_50['PPE_type'].unique()\n",
    "\n",
    "def protection(record):\n",
    "    if record in ['Mask', 'mask','MASK','Mask (double)','masks']:\n",
    "        return 'Only_mask'\n",
    "    elif record in ['N/A','NA','n/a','no mask']:\n",
    "        return 'No_mask'\n",
    "    elif record is None:\n",
    "        return 'No_mask'\n",
    "    else:\n",
    "        return 'Morethan_mask'\n",
    "\n",
    "data_50['PPE_type'].map(protection).hist()"
   ]
  },
  {
   "cell_type": "code",
   "execution_count": 33,
   "metadata": {},
   "outputs": [
    {
     "data": {
      "text/plain": [
       "9.92947664867402"
      ]
     },
     "execution_count": 33,
     "metadata": {},
     "output_type": "execute_result"
    }
   ],
   "source": [
    "#Start_Time, End_Time\n",
    "def right_time(record):\n",
    "    if record is None:\n",
    "        correct_time=0\n",
    "    elif len(record)==5:\n",
    "        correct_time = int(record[:2])*60+int(record[3:5])\n",
    "    elif len(record)==8:\n",
    "        correct_time = int(record[:2])*60+int(record[3:5])\n",
    "    elif len(record)==4 and record[2]==':':\n",
    "        correct_time = int(record[:1])*60+int(record[2:])\n",
    "    elif len(record)==7:\n",
    "        correct_time = int(record[:2])*60+int(record[3:5])\n",
    "    else:\n",
    "        correct_time=0\n",
    "    return correct_time\n",
    "\n",
    "(data_50['End_Time'].map(right_time)-data_50['Start_Time'].map(right_time)).mean()"
   ]
  },
  {
   "cell_type": "code",
   "execution_count": 34,
   "metadata": {},
   "outputs": [
    {
     "name": "stdout",
     "output_type": "stream",
     "text": [
      "7073\n"
     ]
    }
   ],
   "source": [
    "#Interim_de \n",
    "data_50['Interim_de'].map(lambda x: 'Y' if not x is None else 'N')\n",
    "print(len(data_50['Interim_de'].dropna()))"
   ]
  },
  {
   "cell_type": "code",
   "execution_count": 35,
   "metadata": {},
   "outputs": [
    {
     "name": "stdout",
     "output_type": "stream",
     "text": [
      "9511\n",
      "3574\n"
     ]
    },
    {
     "data": {
      "text/plain": [
       "9639"
      ]
     },
     "execution_count": 35,
     "metadata": {},
     "output_type": "execute_result"
    }
   ],
   "source": [
    "#Touch1, Touch2\n",
    "print(len(data_50['Touch1'].dropna()))\n",
    "print(len(data_50['Touch2'].dropna()))\n",
    "\n",
    "def touch(record):\n",
    "    if (not record['Touch1'] is None) or (not record['Touch2'] is None):\n",
    "        return 'Y'\n",
    "    else:\n",
    "        return 'N'\n",
    "\n",
    "\n",
    "aa = data_50[['Touch1','Touch2']].apply(touch,axis=1)\n",
    "len(aa[aa=='Y'])"
   ]
  },
  {
   "cell_type": "code",
   "execution_count": 36,
   "metadata": {},
   "outputs": [],
   "source": [
    "def attribute_process(data):\n",
    "    results = data.copy(deep=True)\n",
    "    results['Walk_alone'] = results['Number_of_'].map(lambda x: 'Y' if x=='1' else 'N')\n",
    "    results['Duration'] = results['End_Time'].map(right_time) - results['Start_Time'].map(right_time)\n",
    "    results['Long_path'] = results['Duration'].map(lambda x: 'Y' if x>=10 else 'N')\n",
    "    results['Stop'] = results['Interim_de'].map(lambda x: 'Y' if not x is None else 'N')\n",
    "    results['Touch'] = results[['Touch1','Touch2']].apply(touch,axis=1)\n",
    "    results['Protection'] = results['PPE_type'].map(protection)\n",
    "    return results[['placekey','Name','Walk_alone','Long_path','Stop','Touch','Protection']]"
   ]
  },
  {
   "cell_type": "code",
   "execution_count": 37,
   "metadata": {},
   "outputs": [
    {
     "data": {
      "text/html": [
       "<div>\n",
       "<style scoped>\n",
       "    .dataframe tbody tr th:only-of-type {\n",
       "        vertical-align: middle;\n",
       "    }\n",
       "\n",
       "    .dataframe tbody tr th {\n",
       "        vertical-align: top;\n",
       "    }\n",
       "\n",
       "    .dataframe thead th {\n",
       "        text-align: right;\n",
       "    }\n",
       "</style>\n",
       "<table border=\"1\" class=\"dataframe\">\n",
       "  <thead>\n",
       "    <tr style=\"text-align: right;\">\n",
       "      <th></th>\n",
       "      <th>placekey</th>\n",
       "      <th>Name</th>\n",
       "      <th>Walk_alone</th>\n",
       "      <th>Long_path</th>\n",
       "      <th>Stop</th>\n",
       "      <th>Touch</th>\n",
       "      <th>Protection</th>\n",
       "    </tr>\n",
       "  </thead>\n",
       "  <tbody>\n",
       "    <tr>\n",
       "      <th>0</th>\n",
       "      <td>zzy-223@627-wc7-st9</td>\n",
       "      <td>20210108bd01</td>\n",
       "      <td>Y</td>\n",
       "      <td>N</td>\n",
       "      <td>N</td>\n",
       "      <td>N</td>\n",
       "      <td>Only_mask</td>\n",
       "    </tr>\n",
       "    <tr>\n",
       "      <th>1</th>\n",
       "      <td>zzy-223@627-wc7-st9</td>\n",
       "      <td>20210108bd02</td>\n",
       "      <td>Y</td>\n",
       "      <td>N</td>\n",
       "      <td>N</td>\n",
       "      <td>N</td>\n",
       "      <td>Only_mask</td>\n",
       "    </tr>\n",
       "    <tr>\n",
       "      <th>2</th>\n",
       "      <td>zzy-223@627-wc7-st9</td>\n",
       "      <td>20210108bd03</td>\n",
       "      <td>N</td>\n",
       "      <td>N</td>\n",
       "      <td>N</td>\n",
       "      <td>N</td>\n",
       "      <td>Only_mask</td>\n",
       "    </tr>\n",
       "    <tr>\n",
       "      <th>3</th>\n",
       "      <td>zzy-223@627-wc7-st9</td>\n",
       "      <td>20210108bd04</td>\n",
       "      <td>Y</td>\n",
       "      <td>N</td>\n",
       "      <td>N</td>\n",
       "      <td>N</td>\n",
       "      <td>Only_mask</td>\n",
       "    </tr>\n",
       "    <tr>\n",
       "      <th>4</th>\n",
       "      <td>zzy-223@627-wc7-st9</td>\n",
       "      <td>20210108bd05</td>\n",
       "      <td>Y</td>\n",
       "      <td>N</td>\n",
       "      <td>N</td>\n",
       "      <td>N</td>\n",
       "      <td>Only_mask</td>\n",
       "    </tr>\n",
       "  </tbody>\n",
       "</table>\n",
       "</div>"
      ],
      "text/plain": [
       "              placekey          Name Walk_alone Long_path Stop Touch  \\\n",
       "0  zzy-223@627-wc7-st9  20210108bd01          Y         N    N     N   \n",
       "1  zzy-223@627-wc7-st9  20210108bd02          Y         N    N     N   \n",
       "2  zzy-223@627-wc7-st9  20210108bd03          N         N    N     N   \n",
       "3  zzy-223@627-wc7-st9  20210108bd04          Y         N    N     N   \n",
       "4  zzy-223@627-wc7-st9  20210108bd05          Y         N    N     N   \n",
       "\n",
       "  Protection  \n",
       "0  Only_mask  \n",
       "1  Only_mask  \n",
       "2  Only_mask  \n",
       "3  Only_mask  \n",
       "4  Only_mask  "
      ]
     },
     "execution_count": 37,
     "metadata": {},
     "output_type": "execute_result"
    }
   ],
   "source": [
    "aa = attribute_process(data_50)\n",
    "aa.head()"
   ]
  },
  {
   "cell_type": "code",
   "execution_count": 38,
   "metadata": {},
   "outputs": [],
   "source": [
    "def path_count(data,stores):\n",
    "    results = pd.DataFrame(index = stores['placekey'])\n",
    "    for i in data.columns[2:]:\n",
    "        for j in data[i].unique():\n",
    "            results[i+'_'+j] = data[data[i]==j].groupby('placekey').agg({'Name':'count'})\n",
    "    results['Total'] = data.groupby('placekey').agg({'Name':'count'})\n",
    "    return results.reset_index()"
   ]
  },
  {
   "cell_type": "code",
   "execution_count": 39,
   "metadata": {},
   "outputs": [
    {
     "data": {
      "text/plain": [
       "<AxesSubplot:>"
      ]
     },
     "execution_count": 39,
     "metadata": {},
     "output_type": "execute_result"
    },
    {
     "data": {
      "image/png": "[encoded data removed]",
      "text/plain": [
       "<Figure size 432x288 with 1 Axes>"
      ]
     },
     "metadata": {
      "needs_background": "light"
     },
     "output_type": "display_data"
    }
   ],
   "source": [
    "#####\n",
    "results_50 = path_count(attribute_process(data_50),stores)\n",
    "results_50 = results_50.fillna(0)\n",
    "results_50['Total'].hist(bins=50)"
   ]
  },
  {
   "cell_type": "code",
   "execution_count": 40,
   "metadata": {},
   "outputs": [
    {
     "data": {
      "text/plain": [
       "<AxesSubplot:>"
      ]
     },
     "execution_count": 40,
     "metadata": {},
     "output_type": "execute_result"
    },
    {
     "data": {
      "image/png": "[encoded data removed]",
      "text/plain": [
       "<Figure size 432x288 with 1 Axes>"
      ]
     },
     "metadata": {
      "needs_background": "light"
     },
     "output_type": "display_data"
    }
   ],
   "source": [
    "results_20 = path_count(attribute_process(data_20),stores)\n",
    "results_20 = results_20.fillna(0)\n",
    "results_20['Total'].hist(bins=50)"
   ]
  },
  {
   "cell_type": "code",
   "execution_count": 41,
   "metadata": {},
   "outputs": [],
   "source": [
    "results_50.to_csv('DETER_POI_data.csv')"
   ]
  },
  {
   "cell_type": "markdown",
   "metadata": {},
   "source": [
    "##### Test"
   ]
  },
  {
   "cell_type": "code",
   "execution_count": 59,
   "metadata": {},
   "outputs": [],
   "source": [
    "results_50 = pd.read_csv('DETER_POI_data.csv').iloc[:,1:]"
   ]
  },
  {
   "cell_type": "code",
   "execution_count": 61,
   "metadata": {},
   "outputs": [],
   "source": [
    "test1 = results_20[results_20.placekey.isin(['22g-222@627-rwb-qzz','225-222@627-rwb-qzz'])]"
   ]
  },
  {
   "cell_type": "code",
   "execution_count": 62,
   "metadata": {},
   "outputs": [],
   "source": [
    "test2 = results_50[results_50.placekey.isin(['223-222@627-s8j-td9','22z-222@627-s96-rff','22q-223@627-s8j-5fz'])]"
   ]
  },
  {
   "cell_type": "code",
   "execution_count": 63,
   "metadata": {},
   "outputs": [
    {
     "data": {
      "text/html": [
       "<div>\n",
       "<style scoped>\n",
       "    .dataframe tbody tr th:only-of-type {\n",
       "        vertical-align: middle;\n",
       "    }\n",
       "\n",
       "    .dataframe tbody tr th {\n",
       "        vertical-align: top;\n",
       "    }\n",
       "\n",
       "    .dataframe thead th {\n",
       "        text-align: right;\n",
       "    }\n",
       "</style>\n",
       "<table border=\"1\" class=\"dataframe\">\n",
       "  <thead>\n",
       "    <tr style=\"text-align: right;\">\n",
       "      <th></th>\n",
       "      <th>placekey</th>\n",
       "      <th>Walk_alone_N</th>\n",
       "      <th>Walk_alone_Y</th>\n",
       "      <th>Long_path_N</th>\n",
       "      <th>Long_path_Y</th>\n",
       "      <th>Stop_N</th>\n",
       "      <th>Stop_Y</th>\n",
       "      <th>Touch_N</th>\n",
       "      <th>Touch_Y</th>\n",
       "      <th>Protection_Only_mask</th>\n",
       "      <th>Protection_Morethan_mask</th>\n",
       "      <th>Protection_No_mask</th>\n",
       "      <th>Total</th>\n",
       "    </tr>\n",
       "  </thead>\n",
       "  <tbody>\n",
       "    <tr>\n",
       "      <th>751</th>\n",
       "      <td>22g-222@627-rwb-qzz</td>\n",
       "      <td>4.0</td>\n",
       "      <td>14.0</td>\n",
       "      <td>11.0</td>\n",
       "      <td>7.0</td>\n",
       "      <td>4.0</td>\n",
       "      <td>14.0</td>\n",
       "      <td>14.0</td>\n",
       "      <td>4.0</td>\n",
       "      <td>15.0</td>\n",
       "      <td>0.0</td>\n",
       "      <td>3.0</td>\n",
       "      <td>18.0</td>\n",
       "    </tr>\n",
       "    <tr>\n",
       "      <th>763</th>\n",
       "      <td>225-222@627-rwb-qzz</td>\n",
       "      <td>4.0</td>\n",
       "      <td>9.0</td>\n",
       "      <td>9.0</td>\n",
       "      <td>4.0</td>\n",
       "      <td>2.0</td>\n",
       "      <td>11.0</td>\n",
       "      <td>10.0</td>\n",
       "      <td>3.0</td>\n",
       "      <td>10.0</td>\n",
       "      <td>0.0</td>\n",
       "      <td>3.0</td>\n",
       "      <td>13.0</td>\n",
       "    </tr>\n",
       "  </tbody>\n",
       "</table>\n",
       "</div>"
      ],
      "text/plain": [
       "                placekey  Walk_alone_N  Walk_alone_Y  Long_path_N  \\\n",
       "751  22g-222@627-rwb-qzz           4.0          14.0         11.0   \n",
       "763  225-222@627-rwb-qzz           4.0           9.0          9.0   \n",
       "\n",
       "     Long_path_Y  Stop_N  Stop_Y  Touch_N  Touch_Y  Protection_Only_mask  \\\n",
       "751          7.0     4.0    14.0     14.0      4.0                  15.0   \n",
       "763          4.0     2.0    11.0     10.0      3.0                  10.0   \n",
       "\n",
       "     Protection_Morethan_mask  Protection_No_mask  Total  \n",
       "751                       0.0                 3.0   18.0  \n",
       "763                       0.0                 3.0   13.0  "
      ]
     },
     "execution_count": 63,
     "metadata": {},
     "output_type": "execute_result"
    }
   ],
   "source": [
    "test1"
   ]
  },
  {
   "cell_type": "code",
   "execution_count": 64,
   "metadata": {},
   "outputs": [
    {
     "data": {
      "text/html": [
       "<div>\n",
       "<style scoped>\n",
       "    .dataframe tbody tr th:only-of-type {\n",
       "        vertical-align: middle;\n",
       "    }\n",
       "\n",
       "    .dataframe tbody tr th {\n",
       "        vertical-align: top;\n",
       "    }\n",
       "\n",
       "    .dataframe thead th {\n",
       "        text-align: right;\n",
       "    }\n",
       "</style>\n",
       "<table border=\"1\" class=\"dataframe\">\n",
       "  <thead>\n",
       "    <tr style=\"text-align: right;\">\n",
       "      <th></th>\n",
       "      <th>placekey</th>\n",
       "      <th>Walk_alone_Y</th>\n",
       "      <th>Walk_alone_N</th>\n",
       "      <th>Long_path_N</th>\n",
       "      <th>Long_path_Y</th>\n",
       "      <th>Stop_N</th>\n",
       "      <th>Stop_Y</th>\n",
       "      <th>Touch_N</th>\n",
       "      <th>Touch_Y</th>\n",
       "      <th>Protection_Only_mask</th>\n",
       "      <th>Protection_Morethan_mask</th>\n",
       "      <th>Protection_No_mask</th>\n",
       "      <th>Total</th>\n",
       "    </tr>\n",
       "  </thead>\n",
       "  <tbody>\n",
       "    <tr>\n",
       "      <th>133</th>\n",
       "      <td>223-222@627-s8j-td9</td>\n",
       "      <td>3.0</td>\n",
       "      <td>3.0</td>\n",
       "      <td>0.0</td>\n",
       "      <td>6.0</td>\n",
       "      <td>4.0</td>\n",
       "      <td>2.0</td>\n",
       "      <td>4.0</td>\n",
       "      <td>2.0</td>\n",
       "      <td>6.0</td>\n",
       "      <td>0.0</td>\n",
       "      <td>0.0</td>\n",
       "      <td>6</td>\n",
       "    </tr>\n",
       "    <tr>\n",
       "      <th>306</th>\n",
       "      <td>22q-223@627-s8j-5fz</td>\n",
       "      <td>1.0</td>\n",
       "      <td>2.0</td>\n",
       "      <td>0.0</td>\n",
       "      <td>3.0</td>\n",
       "      <td>3.0</td>\n",
       "      <td>0.0</td>\n",
       "      <td>3.0</td>\n",
       "      <td>0.0</td>\n",
       "      <td>3.0</td>\n",
       "      <td>0.0</td>\n",
       "      <td>0.0</td>\n",
       "      <td>3</td>\n",
       "    </tr>\n",
       "    <tr>\n",
       "      <th>597</th>\n",
       "      <td>22z-222@627-s96-rff</td>\n",
       "      <td>83.0</td>\n",
       "      <td>22.0</td>\n",
       "      <td>69.0</td>\n",
       "      <td>36.0</td>\n",
       "      <td>95.0</td>\n",
       "      <td>10.0</td>\n",
       "      <td>69.0</td>\n",
       "      <td>36.0</td>\n",
       "      <td>93.0</td>\n",
       "      <td>6.0</td>\n",
       "      <td>6.0</td>\n",
       "      <td>105</td>\n",
       "    </tr>\n",
       "  </tbody>\n",
       "</table>\n",
       "</div>"
      ],
      "text/plain": [
       "                placekey  Walk_alone_Y  Walk_alone_N  Long_path_N  \\\n",
       "133  223-222@627-s8j-td9           3.0           3.0          0.0   \n",
       "306  22q-223@627-s8j-5fz           1.0           2.0          0.0   \n",
       "597  22z-222@627-s96-rff          83.0          22.0         69.0   \n",
       "\n",
       "     Long_path_Y  Stop_N  Stop_Y  Touch_N  Touch_Y  Protection_Only_mask  \\\n",
       "133          6.0     4.0     2.0      4.0      2.0                   6.0   \n",
       "306          3.0     3.0     0.0      3.0      0.0                   3.0   \n",
       "597         36.0    95.0    10.0     69.0     36.0                  93.0   \n",
       "\n",
       "     Protection_Morethan_mask  Protection_No_mask  Total  \n",
       "133                       0.0                 0.0      6  \n",
       "306                       0.0                 0.0      3  \n",
       "597                       6.0                 6.0    105  "
      ]
     },
     "execution_count": 64,
     "metadata": {},
     "output_type": "execute_result"
    }
   ],
   "source": [
    "compare = results_50[results_50.placekey.isin(placekey_lst)]\n",
    "compare"
   ]
  },
  {
   "cell_type": "code",
   "execution_count": 65,
   "metadata": {},
   "outputs": [],
   "source": [
    "#input a list of placekey name, 50m/20m path counts\n",
    "def pair_compare(placekey_lst, data, print_pie = False):\n",
    "    compare = data[data.placekey.isin(placekey_lst)]\n",
    "    for i in compare.iloc[:,1:-1].columns:\n",
    "        compare[i] = compare[i]/compare['Total']\n",
    "    \n",
    "    aa = compare.T[1:]\n",
    "    pro_difference_lst = []\n",
    "    num_difference_lst = []\n",
    "    for j in range(len(placekey_lst)):\n",
    "        aa['Difference'] = np.abs(aa.iloc[:,0]-aa.iloc[:,j])\n",
    "        pro_difference = aa['Difference'][:-1].sum()\n",
    "        num_difference = np.abs(aa.iloc[-1:,0]-aa.iloc[-1:,j]).values[0]\n",
    "        pro_difference_lst.append(pro_difference)\n",
    "        num_difference_lst.append(num_difference)\n",
    "    pro_difference = max(pro_difference_lst)\n",
    "    num_difference = max(num_difference_lst)\n",
    "    \n",
    "    if print_pie == True:\n",
    "        fig, ax = plt.subplots(nrows=len(placekey_lst), ncols=5,figsize=(18,len(placekey_lst)*4))\n",
    "        for i in range(len(placekey_lst)):\n",
    "            ax[i,0].pie(compare.iloc[i,1:3], labels=[compare.iloc[i,1:3].index[0], compare.iloc[i,1:3].index[1]],autopct='%1.1f%%',startangle=-270)\n",
    "            ax[i,1].pie(compare.iloc[i,3:5], labels=[compare.iloc[i,3:5].index[0], compare.iloc[i,3:5].index[1]],autopct='%1.1f%%',startangle=-270)\n",
    "            ax[i,2].pie(compare.iloc[i,5:7], labels=[compare.iloc[i,5:7].index[0], compare.iloc[i,5:7].index[1]],autopct='%1.1f%%',startangle=-270)\n",
    "            ax[i,3].pie(compare.iloc[i,7:9], labels=[compare.iloc[i,7:9].index[0], compare.iloc[i,7:9].index[1]],autopct='%1.1f%%',startangle=-270)\n",
    "            ax[i,4].pie(compare.iloc[i,9:12], labels=[compare.iloc[i,9:12].index[0], compare.iloc[i,9:12].index[1], compare.iloc[i,9:12].index[2]],autopct='%1.1f%%',startangle=-270)\n",
    "            ax[i,0].set_title(placekey_lst[i],fontsize=12)\n",
    "\n",
    "    print([pro_difference, num_difference])\n",
    "    return [pro_difference, num_difference]"
   ]
  },
  {
   "cell_type": "code",
   "execution_count": 67,
   "metadata": {},
   "outputs": [
    {
     "name": "stdout",
     "output_type": "stream",
     "text": [
      "[3.333333333333333, 102]\n"
     ]
    },
    {
     "data": {
      "text/plain": [
       "[3.333333333333333, 102]"
      ]
     },
     "execution_count": 67,
     "metadata": {},
     "output_type": "execute_result"
    },
    {
     "data": {
      "image/png": "[encoded data removed]",
      "text/plain": [
       "<Figure size 1296x576 with 10 Axes>"
      ]
     },
     "metadata": {},
     "output_type": "display_data"
    }
   ],
   "source": [
    "#placekey_lst = ['223-222@627-s8j-td9','22z-222@627-s96-rff','22q-223@627-s8j-5fz']\n",
    "#placekey_lst = ['22g-222@627-rwb-qzz','225-222@627-rwb-qzz']\n",
    "placekey_lst = ['22z-222@627-s96-rff','22q-223@627-s8j-5fz']\n",
    "pair_compare(placekey_lst, results_50, print_pie = True)"
   ]
  }
 ],
 "metadata": {
  "kernelspec": {
   "display_name": "Python 3",
   "language": "python",
   "name": "python3"
  },
  "language_info": {
   "codemirror_mode": {
    "name": "ipython",
    "version": 3
   },
   "file_extension": ".py",
   "mimetype": "text/x-python",
   "name": "python",
   "nbconvert_exporter": "python",
   "pygments_lexer": "ipython3",
   "version": "3.7.7"
  }
 },
 "nbformat": 4,
 "nbformat_minor": 4
}
