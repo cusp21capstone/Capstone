{
 "cells": [
  {
   "cell_type": "code",
   "execution_count": 1,
   "id": "arranged-command",
   "metadata": {},
   "outputs": [],
   "source": [
    "import numpy as np\n",
    "import pandas as pd\n",
    "import geopandas as gpd\n",
    "import matplotlib.pyplot as plt\n",
    "import os\n",
    "import warnings\n",
    "warnings.filterwarnings('ignore')"
   ]
  },
  {
   "cell_type": "code",
   "execution_count": 2,
   "id": "august-christianity",
   "metadata": {},
   "outputs": [],
   "source": [
    "totalrecord = pd.read_csv('total_business.csv')"
   ]
  },
  {
   "cell_type": "code",
   "execution_count": 3,
   "id": "previous-vancouver",
   "metadata": {},
   "outputs": [],
   "source": [
    "montly_count = totalrecord[['placekey','month_num','visitor_cal']]\n",
    "montly_count = montly_count[montly_count['month_num']<=29]\n",
    "montly_count['month_num'].unique()"
   ]
  },
  {
   "cell_type": "code",
   "execution_count": 6,
   "id": "adjacent-prague",
   "metadata": {},
   "outputs": [
    {
     "data": {
      "text/html": [
       "<div>\n",
       "<style scoped>\n",
       "    .dataframe tbody tr th:only-of-type {\n",
       "        vertical-align: middle;\n",
       "    }\n",
       "\n",
       "    .dataframe tbody tr th {\n",
       "        vertical-align: top;\n",
       "    }\n",
       "\n",
       "    .dataframe thead th {\n",
       "        text-align: right;\n",
       "    }\n",
       "</style>\n",
       "<table border=\"1\" class=\"dataframe\">\n",
       "  <thead>\n",
       "    <tr style=\"text-align: right;\">\n",
       "      <th></th>\n",
       "      <th>visitor_cal</th>\n",
       "      <th>visitor_cal_after</th>\n",
       "      <th>change_%</th>\n",
       "      <th>change_num</th>\n",
       "    </tr>\n",
       "    <tr>\n",
       "      <th>placekey</th>\n",
       "      <th></th>\n",
       "      <th></th>\n",
       "      <th></th>\n",
       "      <th></th>\n",
       "    </tr>\n",
       "  </thead>\n",
       "  <tbody>\n",
       "    <tr>\n",
       "      <th>229-222@627-s8v-z4v</th>\n",
       "      <td>94.142857</td>\n",
       "      <td>0.0</td>\n",
       "      <td>-100.0</td>\n",
       "      <td>-94.142857</td>\n",
       "    </tr>\n",
       "    <tr>\n",
       "      <th>235-222@627-wc7-tsq</th>\n",
       "      <td>4.357143</td>\n",
       "      <td>0.0</td>\n",
       "      <td>-100.0</td>\n",
       "      <td>-4.357143</td>\n",
       "    </tr>\n",
       "    <tr>\n",
       "      <th>235-222@627-s8j-3kf</th>\n",
       "      <td>77.357143</td>\n",
       "      <td>0.0</td>\n",
       "      <td>-100.0</td>\n",
       "      <td>-77.357143</td>\n",
       "    </tr>\n",
       "    <tr>\n",
       "      <th>235-222@627-s8h-vs5</th>\n",
       "      <td>0.928571</td>\n",
       "      <td>0.0</td>\n",
       "      <td>-100.0</td>\n",
       "      <td>-0.928571</td>\n",
       "    </tr>\n",
       "    <tr>\n",
       "      <th>234-223@627-s8j-3kf</th>\n",
       "      <td>64.071429</td>\n",
       "      <td>0.0</td>\n",
       "      <td>-100.0</td>\n",
       "      <td>-64.071429</td>\n",
       "    </tr>\n",
       "    <tr>\n",
       "      <th>...</th>\n",
       "      <td>...</td>\n",
       "      <td>...</td>\n",
       "      <td>...</td>\n",
       "      <td>...</td>\n",
       "    </tr>\n",
       "    <tr>\n",
       "      <th>zzy-223@627-s9c-d5f</th>\n",
       "      <td>0.000000</td>\n",
       "      <td>0.0</td>\n",
       "      <td>NaN</td>\n",
       "      <td>0.000000</td>\n",
       "    </tr>\n",
       "    <tr>\n",
       "      <th>zzy-223@627-wc7-qfz</th>\n",
       "      <td>0.000000</td>\n",
       "      <td>0.0</td>\n",
       "      <td>NaN</td>\n",
       "      <td>0.000000</td>\n",
       "    </tr>\n",
       "    <tr>\n",
       "      <th>zzy-224@627-s8h-v2k</th>\n",
       "      <td>0.000000</td>\n",
       "      <td>0.0</td>\n",
       "      <td>NaN</td>\n",
       "      <td>0.000000</td>\n",
       "    </tr>\n",
       "    <tr>\n",
       "      <th>zzy-224@627-s8h-wc5</th>\n",
       "      <td>0.000000</td>\n",
       "      <td>0.0</td>\n",
       "      <td>NaN</td>\n",
       "      <td>0.000000</td>\n",
       "    </tr>\n",
       "    <tr>\n",
       "      <th>zzy-224@627-s8j-575</th>\n",
       "      <td>0.000000</td>\n",
       "      <td>0.0</td>\n",
       "      <td>NaN</td>\n",
       "      <td>0.000000</td>\n",
       "    </tr>\n",
       "  </tbody>\n",
       "</table>\n",
       "<p>2186 rows × 4 columns</p>\n",
       "</div>"
      ],
      "text/plain": [
       "                     visitor_cal  visitor_cal_after  change_%  change_num\n",
       "placekey                                                                 \n",
       "229-222@627-s8v-z4v    94.142857                0.0    -100.0  -94.142857\n",
       "235-222@627-wc7-tsq     4.357143                0.0    -100.0   -4.357143\n",
       "235-222@627-s8j-3kf    77.357143                0.0    -100.0  -77.357143\n",
       "235-222@627-s8h-vs5     0.928571                0.0    -100.0   -0.928571\n",
       "234-223@627-s8j-3kf    64.071429                0.0    -100.0  -64.071429\n",
       "...                          ...                ...       ...         ...\n",
       "zzy-223@627-s9c-d5f     0.000000                0.0       NaN    0.000000\n",
       "zzy-223@627-wc7-qfz     0.000000                0.0       NaN    0.000000\n",
       "zzy-224@627-s8h-v2k     0.000000                0.0       NaN    0.000000\n",
       "zzy-224@627-s8h-wc5     0.000000                0.0       NaN    0.000000\n",
       "zzy-224@627-s8j-575     0.000000                0.0       NaN    0.000000\n",
       "\n",
       "[2186 rows x 4 columns]"
      ]
     },
     "execution_count": 6,
     "metadata": {},
     "output_type": "execute_result"
    }
   ],
   "source": [
    "#1-14, 15-29\n",
    "before = montly_count[montly_count['month_num']<=14]\n",
    "after = montly_count[montly_count['month_num']>14]\n",
    "aa = before.groupby(['placekey']).agg({'visitor_cal':'mean'})\n",
    "bb = after.groupby(['placekey']).agg({'visitor_cal':'mean'})\n",
    "\n",
    "aa['visitor_cal_after'] = bb['visitor_cal']\n",
    "aa['change_%'] = (aa['visitor_cal_after']-aa['visitor_cal'])/aa['visitor_cal']*100\n",
    "aa['change_num'] = aa['visitor_cal_after']-aa['visitor_cal']\n",
    "aa.sort_values('change_%',ascending=True)"
   ]
  },
  {
   "cell_type": "code",
   "execution_count": 7,
   "id": "crude-grenada",
   "metadata": {},
   "outputs": [],
   "source": [
    "aa.to_csv('1020test.csv')"
   ]
  },
  {
   "cell_type": "code",
   "execution_count": 73,
   "id": "stretch-dover",
   "metadata": {},
   "outputs": [
    {
     "data": {
      "text/plain": [
       "1969"
      ]
     },
     "execution_count": 73,
     "metadata": {},
     "output_type": "execute_result"
    }
   ],
   "source": [
    "cc = aa.dropna()\n",
    "cc = cc[cc['change_%']<=1]\n",
    "cc = cc[cc['change_num']<=0]\n",
    "len(cc)\n",
    "#cc.sort_values('change_%',ascending=True)\n",
    "#cc['change_%'].hist(bins=30)"
   ]
  },
  {
   "cell_type": "code",
   "execution_count": 74,
   "id": "paperback-brooks",
   "metadata": {},
   "outputs": [
    {
     "data": {
      "text/plain": [
       "<AxesSubplot:>"
      ]
     },
     "execution_count": 74,
     "metadata": {},
     "output_type": "execute_result"
    },
    {
     "data": {
      "image/png": "[encoded data removed]",
      "text/plain": [
       "<Figure size 432x288 with 1 Axes>"
      ]
     },
     "metadata": {
      "needs_background": "light"
     },
     "output_type": "display_data"
    }
   ],
   "source": [
    "cc['change_%'].hist(bins=30)"
   ]
  },
  {
   "cell_type": "code",
   "execution_count": 75,
   "id": "second-introduction",
   "metadata": {},
   "outputs": [
    {
     "data": {
      "text/plain": [
       "<AxesSubplot:>"
      ]
     },
     "execution_count": 75,
     "metadata": {},
     "output_type": "execute_result"
    },
    {
     "data": {
      "image/png": "[encoded data removed]",
      "text/plain": [
       "<Figure size 432x288 with 1 Axes>"
      ]
     },
     "metadata": {
      "needs_background": "light"
     },
     "output_type": "display_data"
    }
   ],
   "source": [
    "cc['change_num'].hist(bins=30)"
   ]
  }
 ],
 "metadata": {
  "kernelspec": {
   "display_name": "Python 3",
   "language": "python",
   "name": "python3"
  },
  "language_info": {
   "codemirror_mode": {
    "name": "ipython",
    "version": 3
   },
   "file_extension": ".py",
   "mimetype": "text/x-python",
   "name": "python",
   "nbconvert_exporter": "python",
   "pygments_lexer": "ipython3",
   "version": "3.7.7"
  }
 },
 "nbformat": 4,
 "nbformat_minor": 5
}
