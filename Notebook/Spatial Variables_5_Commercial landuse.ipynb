{
 "cells": [
  {
   "cell_type": "code",
   "execution_count": 1,
   "id": "integral-latitude",
   "metadata": {},
   "outputs": [],
   "source": [
    "import pandas as pd\n",
    "import geopandas as gpd\n",
    "from matplotlib import pyplot as plt\n",
    "import numpy as np"
   ]
  },
  {
   "cell_type": "code",
   "execution_count": 2,
   "id": "german-childhood",
   "metadata": {},
   "outputs": [],
   "source": [
    "Totaldata_points = gpd.read_file('total_data.shp')"
   ]
  },
  {
   "cell_type": "code",
   "execution_count": 3,
   "id": "original-calibration",
   "metadata": {},
   "outputs": [
    {
     "data": {
      "text/html": [
       "<div>\n",
       "<style scoped>\n",
       "    .dataframe tbody tr th:only-of-type {\n",
       "        vertical-align: middle;\n",
       "    }\n",
       "\n",
       "    .dataframe tbody tr th {\n",
       "        vertical-align: top;\n",
       "    }\n",
       "\n",
       "    .dataframe thead th {\n",
       "        text-align: right;\n",
       "    }\n",
       "</style>\n",
       "<table border=\"1\" class=\"dataframe\">\n",
       "  <thead>\n",
       "    <tr style=\"text-align: right;\">\n",
       "      <th></th>\n",
       "      <th>boro_ct201</th>\n",
       "      <th>mix_index</th>\n",
       "      <th>R_area</th>\n",
       "      <th>R&amp;C_area</th>\n",
       "      <th>C&amp;O_area</th>\n",
       "      <th>Indus_area</th>\n",
       "      <th>Trans_area</th>\n",
       "      <th>Faci_area</th>\n",
       "      <th>Open_area</th>\n",
       "      <th>Parki_area</th>\n",
       "      <th>Vacan_area</th>\n",
       "      <th>Total_area</th>\n",
       "      <th>geometry</th>\n",
       "    </tr>\n",
       "  </thead>\n",
       "  <tbody>\n",
       "    <tr>\n",
       "      <th>0</th>\n",
       "      <td>5000900.0</td>\n",
       "      <td>0.972461</td>\n",
       "      <td>1.556923e+06</td>\n",
       "      <td>0.000000</td>\n",
       "      <td>6.747377e+03</td>\n",
       "      <td>0.000000</td>\n",
       "      <td>0.000000</td>\n",
       "      <td>167429.166668</td>\n",
       "      <td>91119.263528</td>\n",
       "      <td>3038.493656</td>\n",
       "      <td>70015.248315</td>\n",
       "      <td>1.895273e+06</td>\n",
       "      <td>POLYGON ((-74.07921 40.64343, -74.07914 40.643...</td>\n",
       "    </tr>\n",
       "    <tr>\n",
       "      <th>1</th>\n",
       "      <td>1009800.0</td>\n",
       "      <td>1.814459</td>\n",
       "      <td>5.113277e+05</td>\n",
       "      <td>491131.174216</td>\n",
       "      <td>2.134277e+05</td>\n",
       "      <td>0.000000</td>\n",
       "      <td>0.000000</td>\n",
       "      <td>86453.556594</td>\n",
       "      <td>6520.259646</td>\n",
       "      <td>0.000000</td>\n",
       "      <td>5234.820715</td>\n",
       "      <td>1.314095e+06</td>\n",
       "      <td>POLYGON ((-73.96433 40.75638, -73.96479 40.755...</td>\n",
       "    </tr>\n",
       "    <tr>\n",
       "      <th>2</th>\n",
       "      <td>1010200.0</td>\n",
       "      <td>0.929464</td>\n",
       "      <td>0.000000e+00</td>\n",
       "      <td>85141.298575</td>\n",
       "      <td>9.875633e+05</td>\n",
       "      <td>0.000000</td>\n",
       "      <td>9979.866988</td>\n",
       "      <td>116083.593528</td>\n",
       "      <td>4322.329195</td>\n",
       "      <td>0.000000</td>\n",
       "      <td>1582.930130</td>\n",
       "      <td>1.204673e+06</td>\n",
       "      <td>POLYGON ((-73.97124 40.76094, -73.97170 40.760...</td>\n",
       "    </tr>\n",
       "    <tr>\n",
       "      <th>3</th>\n",
       "      <td>1010400.0</td>\n",
       "      <td>1.425088</td>\n",
       "      <td>7.065873e+04</td>\n",
       "      <td>160256.590039</td>\n",
       "      <td>9.405529e+05</td>\n",
       "      <td>0.000000</td>\n",
       "      <td>0.000000</td>\n",
       "      <td>141366.229477</td>\n",
       "      <td>0.000000</td>\n",
       "      <td>4641.808243</td>\n",
       "      <td>24558.309187</td>\n",
       "      <td>1.342035e+06</td>\n",
       "      <td>POLYGON ((-73.97446 40.76229, -73.97491 40.761...</td>\n",
       "    </tr>\n",
       "    <tr>\n",
       "      <th>4</th>\n",
       "      <td>1011300.0</td>\n",
       "      <td>0.742205</td>\n",
       "      <td>0.000000e+00</td>\n",
       "      <td>111920.637131</td>\n",
       "      <td>1.036033e+06</td>\n",
       "      <td>21948.766146</td>\n",
       "      <td>5226.695191</td>\n",
       "      <td>21085.614406</td>\n",
       "      <td>0.000000</td>\n",
       "      <td>0.000000</td>\n",
       "      <td>0.000000</td>\n",
       "      <td>1.196215e+06</td>\n",
       "      <td>POLYGON ((-73.98412 40.75484, -73.98460 40.754...</td>\n",
       "    </tr>\n",
       "  </tbody>\n",
       "</table>\n",
       "</div>"
      ],
      "text/plain": [
       "   boro_ct201  mix_index        R_area       R&C_area      C&O_area  \\\n",
       "0   5000900.0   0.972461  1.556923e+06       0.000000  6.747377e+03   \n",
       "1   1009800.0   1.814459  5.113277e+05  491131.174216  2.134277e+05   \n",
       "2   1010200.0   0.929464  0.000000e+00   85141.298575  9.875633e+05   \n",
       "3   1010400.0   1.425088  7.065873e+04  160256.590039  9.405529e+05   \n",
       "4   1011300.0   0.742205  0.000000e+00  111920.637131  1.036033e+06   \n",
       "\n",
       "     Indus_area   Trans_area      Faci_area     Open_area   Parki_area  \\\n",
       "0      0.000000     0.000000  167429.166668  91119.263528  3038.493656   \n",
       "1      0.000000     0.000000   86453.556594   6520.259646     0.000000   \n",
       "2      0.000000  9979.866988  116083.593528   4322.329195     0.000000   \n",
       "3      0.000000     0.000000  141366.229477      0.000000  4641.808243   \n",
       "4  21948.766146  5226.695191   21085.614406      0.000000     0.000000   \n",
       "\n",
       "     Vacan_area    Total_area  \\\n",
       "0  70015.248315  1.895273e+06   \n",
       "1   5234.820715  1.314095e+06   \n",
       "2   1582.930130  1.204673e+06   \n",
       "3  24558.309187  1.342035e+06   \n",
       "4      0.000000  1.196215e+06   \n",
       "\n",
       "                                            geometry  \n",
       "0  POLYGON ((-74.07921 40.64343, -74.07914 40.643...  \n",
       "1  POLYGON ((-73.96433 40.75638, -73.96479 40.755...  \n",
       "2  POLYGON ((-73.97124 40.76094, -73.97170 40.760...  \n",
       "3  POLYGON ((-73.97446 40.76229, -73.97491 40.761...  \n",
       "4  POLYGON ((-73.98412 40.75484, -73.98460 40.754...  "
      ]
     },
     "execution_count": 3,
     "metadata": {},
     "output_type": "execute_result"
    }
   ],
   "source": [
    "landuse = gpd.read_file('landuse_census.shp')\n",
    "landuse.head()"
   ]
  },
  {
   "cell_type": "code",
   "execution_count": 5,
   "id": "developing-encoding",
   "metadata": {},
   "outputs": [],
   "source": [
    "landuse['commercial_percent'] = (landuse['R&C_area'] + landuse['C&O_area']) / landuse['Total_area']"
   ]
  },
  {
   "cell_type": "code",
   "execution_count": 1,
   "id": "equal-joshua",
   "metadata": {},
   "outputs": [],
   "source": [
    "land_build = landuse[['boro_ct201','mix_index','commercial_percent','geometry']]"
   ]
  },
  {
   "cell_type": "code",
   "execution_count": 8,
   "id": "immediate-store",
   "metadata": {},
   "outputs": [],
   "source": [
    "landbuild_shp = gpd.sjoin(land_build,Totaldata_points, op='contains' )"
   ]
  },
  {
   "cell_type": "code",
   "execution_count": 9,
   "id": "armed-irrigation",
   "metadata": {},
   "outputs": [],
   "source": [
    "Totaldata_points2 = landbuild_shp[['placekey','location_n','top_catego','sub_catego','latitude','longitude','postal_cod','mix_index','commercial_percent','building_d','status']]"
   ]
  },
  {
   "cell_type": "code",
   "execution_count": 12,
   "id": "secondary-rating",
   "metadata": {},
   "outputs": [],
   "source": [
    "Totaldata_points2.to_csv('Totaldata_points.csv', index=False)"
   ]
  }
 ],
 "metadata": {
  "kernelspec": {
   "display_name": "Python 3",
   "language": "python",
   "name": "python3"
  },
  "language_info": {
   "codemirror_mode": {
    "name": "ipython",
    "version": 3
   },
   "file_extension": ".py",
   "mimetype": "text/x-python",
   "name": "python",
   "nbconvert_exporter": "python",
   "pygments_lexer": "ipython3",
   "version": "3.7.7"
  }
 },
 "nbformat": 4,
 "nbformat_minor": 5
}
